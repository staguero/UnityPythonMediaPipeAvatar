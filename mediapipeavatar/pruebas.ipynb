{
 "cells": [
  {
   "cell_type": "code",
   "execution_count": 1,
   "metadata": {},
   "outputs": [
    {
     "data": {
      "text/plain": [
       "'0|0.0|0|0\\n1|0.5|1|10\\n2|1.0|2|20\\n3|1.5|3|30\\n4|2.0|4|40\\n5|2.5|5|50\\n6|3.0|6|60\\n7|3.5|7|70\\n8|4.0|8|80\\n9|4.5|9|90\\n10|5.0|10|100\\n11|5.5|11|110\\n12|6.0|12|120\\n13|6.5|13|130\\n14|7.0|14|140\\n15|7.5|15|150\\n16|8.0|16|160\\n17|8.5|17|170\\n18|9.0|18|180\\n19|9.5|19|190\\n20|10.0|20|200\\n21|10.5|21|210\\n22|11.0|22|220\\n23|11.5|23|230\\n24|12.0|24|240\\n25|12.5|25|250\\n26|13.0|26|260\\n27|13.5|27|270\\n28|14.0|28|280\\n29|14.5|29|290\\n30|15.0|30|300\\n31|15.5|31|310\\n32|16.0|32|320\\n'"
      ]
     },
     "execution_count": 1,
     "metadata": {},
     "output_type": "execute_result"
    }
   ],
   "source": [
    "data = \"\"\n",
    "for i in range(0,33):\n",
    "    data += \"{}|{}|{}|{}\\n\".format(i,i*0.5,i*1,i*10)\n",
    "data"
   ]
  },
  {
   "cell_type": "code",
   "execution_count": null,
   "metadata": {},
   "outputs": [],
   "source": []
  }
 ],
 "metadata": {
  "kernelspec": {
   "display_name": "Python 3",
   "language": "python",
   "name": "python3"
  },
  "language_info": {
   "codemirror_mode": {
    "name": "ipython",
    "version": 3
   },
   "file_extension": ".py",
   "mimetype": "text/x-python",
   "name": "python",
   "nbconvert_exporter": "python",
   "pygments_lexer": "ipython3",
   "version": "3.11.0"
  }
 },
 "nbformat": 4,
 "nbformat_minor": 2
}
